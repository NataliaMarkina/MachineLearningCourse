{
  "nbformat": 4,
  "nbformat_minor": 0,
  "metadata": {
    "colab": {
      "name": "Untitled13.ipynb",
      "provenance": [],
      "collapsed_sections": []
    },
    "kernelspec": {
      "name": "python3",
      "display_name": "Python 3"
    }
  },
  "cells": [
    {
      "cell_type": "code",
      "metadata": {
        "id": "2VaLg3_HgleR"
      },
      "source": [
        "import numpy as np              # Массивы (матрицы, векторы, линейная алгебра)\n",
        "import matplotlib.pyplot as plt # Научная графика\n",
        "%matplotlib inline \n",
        "    # Говорим jupyter'у, чтобы весь графический вывод был в браузере, а не в отдельном окне\n",
        "import pandas as pd             # Таблицы и временные ряды (dataframe, series)\n",
        "import seaborn as sns           # Еще больше красивой графики для визуализации данных\n",
        "import sklearn"
      ],
      "execution_count": 56,
      "outputs": []
    },
    {
      "cell_type": "markdown",
      "metadata": {
        "id": "12QxSLL1gMYw"
      },
      "source": [
        "1. Загружаем данные (набор данных о реальных розничных онлайн-транзакциях за два года)"
      ]
    },
    {
      "cell_type": "code",
      "metadata": {
        "id": "Mnc7mu0dgSHN"
      },
      "source": [
        "url = \"https://github.com/NataliaMarkina/MachineLearningCourse/raw/master/online_retail_II.csv\"\n",
        "data = pd.read_csv(url)"
      ],
      "execution_count": 60,
      "outputs": []
    },
    {
      "cell_type": "code",
      "metadata": {
        "colab": {
          "base_uri": "https://localhost:8080/",
          "height": 419
        },
        "id": "YCDojN-P3Cyv",
        "outputId": "734de51c-8ece-41e6-e757-e2fbd4c3f293"
      },
      "source": [
        "data"
      ],
      "execution_count": 52,
      "outputs": [
        {
          "output_type": "execute_result",
          "data": {
            "text/html": [
              "<div>\n",
              "<style scoped>\n",
              "    .dataframe tbody tr th:only-of-type {\n",
              "        vertical-align: middle;\n",
              "    }\n",
              "\n",
              "    .dataframe tbody tr th {\n",
              "        vertical-align: top;\n",
              "    }\n",
              "\n",
              "    .dataframe thead th {\n",
              "        text-align: right;\n",
              "    }\n",
              "</style>\n",
              "<table border=\"1\" class=\"dataframe\">\n",
              "  <thead>\n",
              "    <tr style=\"text-align: right;\">\n",
              "      <th></th>\n",
              "      <th>Invoice</th>\n",
              "      <th>StockCode</th>\n",
              "      <th>Description</th>\n",
              "      <th>Quantity</th>\n",
              "      <th>InvoiceDate</th>\n",
              "      <th>Price</th>\n",
              "      <th>Customer ID</th>\n",
              "      <th>Country</th>\n",
              "    </tr>\n",
              "  </thead>\n",
              "  <tbody>\n",
              "    <tr>\n",
              "      <th>0</th>\n",
              "      <td>489434</td>\n",
              "      <td>85048</td>\n",
              "      <td>15CM CHRISTMAS GLASS BALL 20 LIGHTS</td>\n",
              "      <td>12</td>\n",
              "      <td>2009-12-01 07:45:00</td>\n",
              "      <td>6.95</td>\n",
              "      <td>13085.0</td>\n",
              "      <td>United Kingdom</td>\n",
              "    </tr>\n",
              "    <tr>\n",
              "      <th>1</th>\n",
              "      <td>489434</td>\n",
              "      <td>79323P</td>\n",
              "      <td>PINK CHERRY LIGHTS</td>\n",
              "      <td>12</td>\n",
              "      <td>2009-12-01 07:45:00</td>\n",
              "      <td>6.75</td>\n",
              "      <td>13085.0</td>\n",
              "      <td>United Kingdom</td>\n",
              "    </tr>\n",
              "    <tr>\n",
              "      <th>2</th>\n",
              "      <td>489434</td>\n",
              "      <td>79323W</td>\n",
              "      <td>WHITE CHERRY LIGHTS</td>\n",
              "      <td>12</td>\n",
              "      <td>2009-12-01 07:45:00</td>\n",
              "      <td>6.75</td>\n",
              "      <td>13085.0</td>\n",
              "      <td>United Kingdom</td>\n",
              "    </tr>\n",
              "    <tr>\n",
              "      <th>3</th>\n",
              "      <td>489434</td>\n",
              "      <td>22041</td>\n",
              "      <td>RECORD FRAME 7\" SINGLE SIZE</td>\n",
              "      <td>48</td>\n",
              "      <td>2009-12-01 07:45:00</td>\n",
              "      <td>2.10</td>\n",
              "      <td>13085.0</td>\n",
              "      <td>United Kingdom</td>\n",
              "    </tr>\n",
              "    <tr>\n",
              "      <th>4</th>\n",
              "      <td>489434</td>\n",
              "      <td>21232</td>\n",
              "      <td>STRAWBERRY CERAMIC TRINKET BOX</td>\n",
              "      <td>24</td>\n",
              "      <td>2009-12-01 07:45:00</td>\n",
              "      <td>1.25</td>\n",
              "      <td>13085.0</td>\n",
              "      <td>United Kingdom</td>\n",
              "    </tr>\n",
              "    <tr>\n",
              "      <th>...</th>\n",
              "      <td>...</td>\n",
              "      <td>...</td>\n",
              "      <td>...</td>\n",
              "      <td>...</td>\n",
              "      <td>...</td>\n",
              "      <td>...</td>\n",
              "      <td>...</td>\n",
              "      <td>...</td>\n",
              "    </tr>\n",
              "    <tr>\n",
              "      <th>1067366</th>\n",
              "      <td>581587</td>\n",
              "      <td>22899</td>\n",
              "      <td>CHILDREN'S APRON DOLLY GIRL</td>\n",
              "      <td>6</td>\n",
              "      <td>2011-12-09 12:50:00</td>\n",
              "      <td>2.10</td>\n",
              "      <td>12680.0</td>\n",
              "      <td>France</td>\n",
              "    </tr>\n",
              "    <tr>\n",
              "      <th>1067367</th>\n",
              "      <td>581587</td>\n",
              "      <td>23254</td>\n",
              "      <td>CHILDRENS CUTLERY DOLLY GIRL</td>\n",
              "      <td>4</td>\n",
              "      <td>2011-12-09 12:50:00</td>\n",
              "      <td>4.15</td>\n",
              "      <td>12680.0</td>\n",
              "      <td>France</td>\n",
              "    </tr>\n",
              "    <tr>\n",
              "      <th>1067368</th>\n",
              "      <td>581587</td>\n",
              "      <td>23255</td>\n",
              "      <td>CHILDRENS CUTLERY CIRCUS PARADE</td>\n",
              "      <td>4</td>\n",
              "      <td>2011-12-09 12:50:00</td>\n",
              "      <td>4.15</td>\n",
              "      <td>12680.0</td>\n",
              "      <td>France</td>\n",
              "    </tr>\n",
              "    <tr>\n",
              "      <th>1067369</th>\n",
              "      <td>581587</td>\n",
              "      <td>22138</td>\n",
              "      <td>BAKING SET 9 PIECE RETROSPOT</td>\n",
              "      <td>3</td>\n",
              "      <td>2011-12-09 12:50:00</td>\n",
              "      <td>4.95</td>\n",
              "      <td>12680.0</td>\n",
              "      <td>France</td>\n",
              "    </tr>\n",
              "    <tr>\n",
              "      <th>1067370</th>\n",
              "      <td>581587</td>\n",
              "      <td>POST</td>\n",
              "      <td>POSTAGE</td>\n",
              "      <td>1</td>\n",
              "      <td>2011-12-09 12:50:00</td>\n",
              "      <td>18.00</td>\n",
              "      <td>12680.0</td>\n",
              "      <td>France</td>\n",
              "    </tr>\n",
              "  </tbody>\n",
              "</table>\n",
              "<p>1067371 rows × 8 columns</p>\n",
              "</div>"
            ],
            "text/plain": [
              "        Invoice StockCode  ... Customer ID         Country\n",
              "0        489434     85048  ...     13085.0  United Kingdom\n",
              "1        489434    79323P  ...     13085.0  United Kingdom\n",
              "2        489434    79323W  ...     13085.0  United Kingdom\n",
              "3        489434     22041  ...     13085.0  United Kingdom\n",
              "4        489434     21232  ...     13085.0  United Kingdom\n",
              "...         ...       ...  ...         ...             ...\n",
              "1067366  581587     22899  ...     12680.0          France\n",
              "1067367  581587     23254  ...     12680.0          France\n",
              "1067368  581587     23255  ...     12680.0          France\n",
              "1067369  581587     22138  ...     12680.0          France\n",
              "1067370  581587      POST  ...     12680.0          France\n",
              "\n",
              "[1067371 rows x 8 columns]"
            ]
          },
          "metadata": {
            "tags": []
          },
          "execution_count": 52
        }
      ]
    },
    {
      "cell_type": "code",
      "metadata": {
        "id": "NB2VQ-bQg3On",
        "colab": {
          "base_uri": "https://localhost:8080/"
        },
        "outputId": "84cb1f71-ebbe-46f7-cc1f-7349c11afa16"
      },
      "source": [
        "data.shape"
      ],
      "execution_count": 53,
      "outputs": [
        {
          "output_type": "execute_result",
          "data": {
            "text/plain": [
              "(1067371, 8)"
            ]
          },
          "metadata": {
            "tags": []
          },
          "execution_count": 53
        }
      ]
    },
    {
      "cell_type": "markdown",
      "metadata": {
        "id": "4Cqhn5QnpK_0"
      },
      "source": [
        "# **Описание задачи**"
      ]
    },
    {
      "cell_type": "markdown",
      "metadata": {
        "id": "j17nNd1N5p-C"
      },
      "source": [
        "Этот набор данных Online Retail II содержит все транзакции, происходящие для зарегистрированной онлайн-розничной торговли в Великобритании, не связанной с магазинами, в период с 01/12/2009 по 09/12/2011. Компания в основном продает уникальные подарки на все случаи жизни. Многие клиенты компании являются оптовиками."
      ]
    },
    {
      "cell_type": "code",
      "metadata": {
        "colab": {
          "base_uri": "https://localhost:8080/"
        },
        "id": "MUluLddF7x7E",
        "outputId": "6583377d-e19a-4a6d-cf4b-5cc6b9da80d0"
      },
      "source": [
        "print(data.columns)"
      ],
      "execution_count": 54,
      "outputs": [
        {
          "output_type": "stream",
          "text": [
            "Index(['Invoice', 'StockCode', 'Description', 'Quantity', 'InvoiceDate',\n",
            "       'Price', 'Customer ID', 'Country'],\n",
            "      dtype='object')\n"
          ],
          "name": "stdout"
        }
      ]
    },
    {
      "cell_type": "markdown",
      "metadata": {
        "id": "4jdgIN_R53H9"
      },
      "source": [
        "**Invoice:** Номер счета. Номинальный. 6-значное целое число, однозначно присваиваемое каждой транзакции. Если этот код начинается с буквы «c», это означает отмену.\n",
        "\n",
        "**StockCode:** Код товара (позиции). Номинальный. Пятизначное целое число, однозначно присваиваемое каждому отдельному продукту. \n",
        "\n",
        "**Description:** Название товара (предмета). Номинальный. \n",
        "\n",
        "**Quantity:** количество каждого продукта (позиции) за транзакцию. Числовой. \n",
        "InvoiceDate: дата и время поступления. Числовой. День и время создания транзакции. \n",
        "\n",
        "**Price:** Цена за единицу. Числовой. Цена продукта за единицу в фунтах стерлингов (£). \n",
        "\n",
        "**Customer ID:** Номер клиента. Номинальный. Пятизначное целое число, однозначно присваиваемое каждому покупателю. \n",
        "\n",
        "**Country:** Название страны. Номинальный. Название страны, в которой проживает покупатель."
      ]
    },
    {
      "cell_type": "markdown",
      "metadata": {
        "id": "U360R2i67dE-"
      },
      "source": [
        "Задача прогноза - определить, проживает ли покупатель в United Kingdom или нет."
      ]
    },
    {
      "cell_type": "markdown",
      "metadata": {
        "id": "x71E9vNJ6DIZ"
      },
      "source": [
        "# **Боремся с выбросами**"
      ]
    },
    {
      "cell_type": "markdown",
      "metadata": {
        "id": "RhRMUhRoiK6Z"
      },
      "source": [
        "Построим матрицу рассеивания"
      ]
    },
    {
      "cell_type": "code",
      "metadata": {
        "colab": {
          "base_uri": "https://localhost:8080/",
          "height": 627
        },
        "id": "ChKg9g3Q9zxW",
        "outputId": "7a270d5a-6e49-440b-f965-a0d6340551d9"
      },
      "source": [
        "from pandas.plotting import scatter_matrix\n",
        "scatter_matrix(data, alpha = .01, figsize = (10, 10))\n",
        "pass"
      ],
      "execution_count": 55,
      "outputs": [
        {
          "output_type": "display_data",
          "data": {
            "image/png": "[encoded data removed]",
            "text/plain": [
              "<Figure size 720x720 with 9 Axes>"
            ]
          },
          "metadata": {
            "tags": [],
            "needs_background": "light"
          }
        }
      ]
    },
    {
      "cell_type": "code",
      "metadata": {
        "colab": {
          "base_uri": "https://localhost:8080/",
          "height": 279
        },
        "id": "06Zaf-pYlBHH",
        "outputId": "83d6c543-456c-4128-b81d-d8a6febe516a"
      },
      "source": [
        "plt.scatter(data['Quantity'], data['Price'])\n",
        "plt.xlabel('Quantity')\n",
        "plt.ylabel('Price')\n",
        "pass"
      ],
      "execution_count": null,
      "outputs": [
        {
          "output_type": "display_data",
          "data": {
            "image/png": "[encoded data removed]",
            "text/plain": [
              "<Figure size 432x288 with 1 Axes>"
            ]
          },
          "metadata": {
            "tags": [],
            "needs_background": "light"
          }
        }
      ]
    },
    {
      "cell_type": "markdown",
      "metadata": {
        "id": "SkswHgBanSD1"
      },
      "source": [
        "Для обнаружения выбросов найдем, например, квантили для признаков Quantity и Price:"
      ]
    },
    {
      "cell_type": "code",
      "metadata": {
        "colab": {
          "base_uri": "https://localhost:8080/"
        },
        "id": "6o6PrLssnWl6",
        "outputId": "785b140c-b0d9-4190-ed52-68f95b74dcf7"
      },
      "source": [
        "data['Price'].quantile([0.005,.01,.05,.1,.5,.9,.95,.99,.995])"
      ],
      "execution_count": null,
      "outputs": [
        {
          "output_type": "execute_result",
          "data": {
            "text/plain": [
              "0.005     0.00\n",
              "0.010     0.21\n",
              "0.050     0.42\n",
              "0.100     0.65\n",
              "0.500     2.10\n",
              "0.900     7.95\n",
              "0.950     9.95\n",
              "0.990    18.00\n",
              "0.995    25.49\n",
              "Name: Price, dtype: float64"
            ]
          },
          "metadata": {
            "tags": []
          },
          "execution_count": 8
        }
      ]
    },
    {
      "cell_type": "code",
      "metadata": {
        "colab": {
          "base_uri": "https://localhost:8080/"
        },
        "id": "SF1oCozEninh",
        "outputId": "edda5ba3-0f90-46d3-8a6e-49b0ef26533e"
      },
      "source": [
        "data['Quantity'].quantile([0.005,.01,.05,.1,.5,.9,.95,.99,.995])\n"
      ],
      "execution_count": null,
      "outputs": [
        {
          "output_type": "execute_result",
          "data": {
            "text/plain": [
              "0.005    -12.0\n",
              "0.010     -3.0\n",
              "0.050      1.0\n",
              "0.100      1.0\n",
              "0.500      3.0\n",
              "0.900     24.0\n",
              "0.950     30.0\n",
              "0.990    100.0\n",
              "0.995    192.0\n",
              "Name: Quantity, dtype: float64"
            ]
          },
          "metadata": {
            "tags": []
          },
          "execution_count": 9
        }
      ]
    },
    {
      "cell_type": "markdown",
      "metadata": {
        "id": "JCnUbqAboO7G"
      },
      "source": [
        "Удалим все строки таблицы, в которых 'Price' или 'Quantity' выходят за пределы квантилей $0.005$, $0.995$."
      ]
    },
    {
      "cell_type": "code",
      "metadata": {
        "colab": {
          "base_uri": "https://localhost:8080/"
        },
        "id": "56v3rj_JoTBY",
        "outputId": "3f9526f0-36d5-45dc-8845-71db93ba2b5b"
      },
      "source": [
        "rows_to_drop = data[\n",
        "    (data['Quantity'] < data['Quantity'].quantile(0.005)) | (data['Quantity'] > data['Quantity'].quantile(0.995)) | \n",
        "    (data['Price']  < data['Price' ].quantile(0.005)) | (data['Price']  > data['Price' ].quantile(0.995))].index\n",
        "data_new = data.drop(rows_to_drop)\n",
        "data_new.shape"
      ],
      "execution_count": 61,
      "outputs": [
        {
          "output_type": "execute_result",
          "data": {
            "text/plain": [
              "(1052560, 8)"
            ]
          },
          "metadata": {
            "tags": []
          },
          "execution_count": 61
        }
      ]
    },
    {
      "cell_type": "code",
      "metadata": {
        "colab": {
          "base_uri": "https://localhost:8080/",
          "height": 279
        },
        "id": "51Flb_Hu8fEN",
        "outputId": "d2cd1027-a559-4edc-9b7c-225febe525ad"
      },
      "source": [
        "plt.scatter(data['Quantity'], data['Customer ID'])\n",
        "plt.xlabel('Quantity')\n",
        "plt.ylabel('Customer ID')\n",
        "pass"
      ],
      "execution_count": null,
      "outputs": [
        {
          "output_type": "display_data",
          "data": {
            "image/png": "[encoded data removed]",
            "text/plain": [
              "<Figure size 432x288 with 1 Axes>"
            ]
          },
          "metadata": {
            "tags": [],
            "needs_background": "light"
          }
        }
      ]
    },
    {
      "cell_type": "code",
      "metadata": {
        "colab": {
          "base_uri": "https://localhost:8080/"
        },
        "id": "En70aE5j8ksQ",
        "outputId": "7c80ac04-2740-4cf0-f8f4-34bd9f75aee4"
      },
      "source": [
        "data['Customer ID'].quantile([0.005,.01,.05,.1,.5,.9,.95,.99,.995])"
      ],
      "execution_count": null,
      "outputs": [
        {
          "output_type": "execute_result",
          "data": {
            "text/plain": [
              "0.005    12385.0\n",
              "0.010    12422.0\n",
              "0.050    12681.0\n",
              "0.100    12971.0\n",
              "0.500    15255.0\n",
              "0.900    17713.0\n",
              "0.950    17911.0\n",
              "0.990    18207.0\n",
              "0.995    18241.0\n",
              "Name: Customer ID, dtype: float64"
            ]
          },
          "metadata": {
            "tags": []
          },
          "execution_count": 11
        }
      ]
    },
    {
      "cell_type": "code",
      "metadata": {
        "colab": {
          "base_uri": "https://localhost:8080/",
          "height": 279
        },
        "id": "6U6MFXLX8sC2",
        "outputId": "f744450b-a160-4664-ad65-793122095aa5"
      },
      "source": [
        "plt.scatter(data['Price'], data['Customer ID'])\n",
        "plt.xlabel('Price')\n",
        "plt.ylabel('Customer ID')\n",
        "pass"
      ],
      "execution_count": null,
      "outputs": [
        {
          "output_type": "display_data",
          "data": {
            "image/png": "[encoded data removed]",
            "text/plain": [
              "<Figure size 432x288 with 1 Axes>"
            ]
          },
          "metadata": {
            "tags": [],
            "needs_background": "light"
          }
        }
      ]
    },
    {
      "cell_type": "markdown",
      "metadata": {
        "id": "lRM8G1c2o-al"
      },
      "source": [
        "# **Визуализация и описательная статистика**"
      ]
    },
    {
      "cell_type": "code",
      "metadata": {
        "colab": {
          "base_uri": "https://localhost:8080/",
          "height": 297
        },
        "id": "uWYxB-jz8m-s",
        "outputId": "953fc869-14f4-4fb6-af94-7609387b4229"
      },
      "source": [
        "data.describe()"
      ],
      "execution_count": null,
      "outputs": [
        {
          "output_type": "execute_result",
          "data": {
            "text/html": [
              "<div>\n",
              "<style scoped>\n",
              "    .dataframe tbody tr th:only-of-type {\n",
              "        vertical-align: middle;\n",
              "    }\n",
              "\n",
              "    .dataframe tbody tr th {\n",
              "        vertical-align: top;\n",
              "    }\n",
              "\n",
              "    .dataframe thead th {\n",
              "        text-align: right;\n",
              "    }\n",
              "</style>\n",
              "<table border=\"1\" class=\"dataframe\">\n",
              "  <thead>\n",
              "    <tr style=\"text-align: right;\">\n",
              "      <th></th>\n",
              "      <th>Quantity</th>\n",
              "      <th>Price</th>\n",
              "      <th>Customer ID</th>\n",
              "    </tr>\n",
              "  </thead>\n",
              "  <tbody>\n",
              "    <tr>\n",
              "      <th>count</th>\n",
              "      <td>1.067371e+06</td>\n",
              "      <td>1.067371e+06</td>\n",
              "      <td>824364.000000</td>\n",
              "    </tr>\n",
              "    <tr>\n",
              "      <th>mean</th>\n",
              "      <td>9.938898e+00</td>\n",
              "      <td>4.649388e+00</td>\n",
              "      <td>15324.638504</td>\n",
              "    </tr>\n",
              "    <tr>\n",
              "      <th>std</th>\n",
              "      <td>1.727058e+02</td>\n",
              "      <td>1.235531e+02</td>\n",
              "      <td>1697.464450</td>\n",
              "    </tr>\n",
              "    <tr>\n",
              "      <th>min</th>\n",
              "      <td>-8.099500e+04</td>\n",
              "      <td>-5.359436e+04</td>\n",
              "      <td>12346.000000</td>\n",
              "    </tr>\n",
              "    <tr>\n",
              "      <th>25%</th>\n",
              "      <td>1.000000e+00</td>\n",
              "      <td>1.250000e+00</td>\n",
              "      <td>13975.000000</td>\n",
              "    </tr>\n",
              "    <tr>\n",
              "      <th>50%</th>\n",
              "      <td>3.000000e+00</td>\n",
              "      <td>2.100000e+00</td>\n",
              "      <td>15255.000000</td>\n",
              "    </tr>\n",
              "    <tr>\n",
              "      <th>75%</th>\n",
              "      <td>1.000000e+01</td>\n",
              "      <td>4.150000e+00</td>\n",
              "      <td>16797.000000</td>\n",
              "    </tr>\n",
              "    <tr>\n",
              "      <th>max</th>\n",
              "      <td>8.099500e+04</td>\n",
              "      <td>3.897000e+04</td>\n",
              "      <td>18287.000000</td>\n",
              "    </tr>\n",
              "  </tbody>\n",
              "</table>\n",
              "</div>"
            ],
            "text/plain": [
              "           Quantity         Price    Customer ID\n",
              "count  1.067371e+06  1.067371e+06  824364.000000\n",
              "mean   9.938898e+00  4.649388e+00   15324.638504\n",
              "std    1.727058e+02  1.235531e+02    1697.464450\n",
              "min   -8.099500e+04 -5.359436e+04   12346.000000\n",
              "25%    1.000000e+00  1.250000e+00   13975.000000\n",
              "50%    3.000000e+00  2.100000e+00   15255.000000\n",
              "75%    1.000000e+01  4.150000e+00   16797.000000\n",
              "max    8.099500e+04  3.897000e+04   18287.000000"
            ]
          },
          "metadata": {
            "tags": []
          },
          "execution_count": 5
        }
      ]
    },
    {
      "cell_type": "markdown",
      "metadata": {
        "id": "0vuDQFUsgaON"
      },
      "source": [
        "Для каждого количественного признака приведены средние значения, стандартное отклонение, минимальное и макимальное значения, медиана и значения квантилей."
      ]
    },
    {
      "cell_type": "markdown",
      "metadata": {
        "id": "mVHJAdEVgeAI"
      },
      "source": [
        "Получим информацию о категориальных признаках:"
      ]
    },
    {
      "cell_type": "code",
      "metadata": {
        "id": "YG3lxEGN7l8n"
      },
      "source": [
        "data_category = data.drop(['Quantity','Price','Customer ID'], axis = 1)"
      ],
      "execution_count": null,
      "outputs": []
    },
    {
      "cell_type": "code",
      "metadata": {
        "id": "2gjVwI1-7yPK",
        "colab": {
          "base_uri": "https://localhost:8080/",
          "height": 173
        },
        "outputId": "176d2661-f0ab-4eac-bc37-5e9e2e38b043"
      },
      "source": [
        "data_category.describe(include='all')"
      ],
      "execution_count": null,
      "outputs": [
        {
          "output_type": "execute_result",
          "data": {
            "text/html": [
              "<div>\n",
              "<style scoped>\n",
              "    .dataframe tbody tr th:only-of-type {\n",
              "        vertical-align: middle;\n",
              "    }\n",
              "\n",
              "    .dataframe tbody tr th {\n",
              "        vertical-align: top;\n",
              "    }\n",
              "\n",
              "    .dataframe thead th {\n",
              "        text-align: right;\n",
              "    }\n",
              "</style>\n",
              "<table border=\"1\" class=\"dataframe\">\n",
              "  <thead>\n",
              "    <tr style=\"text-align: right;\">\n",
              "      <th></th>\n",
              "      <th>Invoice</th>\n",
              "      <th>StockCode</th>\n",
              "      <th>Description</th>\n",
              "      <th>InvoiceDate</th>\n",
              "      <th>Country</th>\n",
              "    </tr>\n",
              "  </thead>\n",
              "  <tbody>\n",
              "    <tr>\n",
              "      <th>count</th>\n",
              "      <td>1067371</td>\n",
              "      <td>1067371</td>\n",
              "      <td>1062989</td>\n",
              "      <td>1067371</td>\n",
              "      <td>1067371</td>\n",
              "    </tr>\n",
              "    <tr>\n",
              "      <th>unique</th>\n",
              "      <td>53628</td>\n",
              "      <td>5305</td>\n",
              "      <td>5698</td>\n",
              "      <td>47635</td>\n",
              "      <td>43</td>\n",
              "    </tr>\n",
              "    <tr>\n",
              "      <th>top</th>\n",
              "      <td>537434</td>\n",
              "      <td>85123A</td>\n",
              "      <td>WHITE HANGING HEART T-LIGHT HOLDER</td>\n",
              "      <td>2010-12-06 16:57:00</td>\n",
              "      <td>United Kingdom</td>\n",
              "    </tr>\n",
              "    <tr>\n",
              "      <th>freq</th>\n",
              "      <td>1350</td>\n",
              "      <td>5829</td>\n",
              "      <td>5918</td>\n",
              "      <td>1350</td>\n",
              "      <td>981330</td>\n",
              "    </tr>\n",
              "  </tbody>\n",
              "</table>\n",
              "</div>"
            ],
            "text/plain": [
              "        Invoice StockCode  ...          InvoiceDate         Country\n",
              "count   1067371   1067371  ...              1067371         1067371\n",
              "unique    53628      5305  ...                47635              43\n",
              "top      537434    85123A  ...  2010-12-06 16:57:00  United Kingdom\n",
              "freq       1350      5829  ...                 1350          981330\n",
              "\n",
              "[4 rows x 5 columns]"
            ]
          },
          "metadata": {
            "tags": []
          },
          "execution_count": 15
        }
      ]
    },
    {
      "cell_type": "markdown",
      "metadata": {
        "id": "nlZzOLherWS4"
      },
      "source": [
        "Cнова построим диаграмму рассеивания для признаков 'Quantity', 'Price':"
      ]
    },
    {
      "cell_type": "code",
      "metadata": {
        "colab": {
          "base_uri": "https://localhost:8080/",
          "height": 279
        },
        "id": "yvPffmenryZp",
        "outputId": "469f404a-4118-4868-fd90-59b934174084"
      },
      "source": [
        "plt.scatter(data_new['Quantity'], data_new['Price'], alpha=0.01)\n",
        "plt.xlabel('Quantity')\n",
        "plt.ylabel('Price')\n",
        "pass"
      ],
      "execution_count": null,
      "outputs": [
        {
          "output_type": "display_data",
          "data": {
            "image/png": "[encoded data removed]",
            "text/plain": [
              "<Figure size 432x288 with 1 Axes>"
            ]
          },
          "metadata": {
            "tags": [],
            "needs_background": "light"
          }
        }
      ]
    },
    {
      "cell_type": "markdown",
      "metadata": {
        "id": "ENuIzHAksTf6"
      },
      "source": [
        "Отрисовка всех точек требует много времени. Тем более, точки накладываются друг на друга и сложно понять сколько точек на том или ином участке графика (особенно, если не использовать параметр alpha). Поэтому изобразим только $1000$ случайных точек:"
      ]
    },
    {
      "cell_type": "code",
      "metadata": {
        "colab": {
          "base_uri": "https://localhost:8080/",
          "height": 279
        },
        "id": "jrb0YW2usdfl",
        "outputId": "8176e661-bac8-4a78-c988-b0af661546cf"
      },
      "source": [
        "np.random.seed(42)\n",
        "random_subset = np.random.choice(np.arange(data_new.shape[0]), size=1000, replace=False)\n",
        "plt.scatter(data_new.iloc[random_subset]['Quantity'], data_new.iloc[random_subset]['Price'], alpha=0.4)\n",
        "plt.xlabel('Quantity')\n",
        "plt.ylabel('Price')\n",
        "pass"
      ],
      "execution_count": null,
      "outputs": [
        {
          "output_type": "display_data",
          "data": {
            "image/png": "[encoded data removed]",
            "text/plain": [
              "<Figure size 432x288 with 1 Axes>"
            ]
          },
          "metadata": {
            "tags": [],
            "needs_background": "light"
          }
        }
      ]
    },
    {
      "cell_type": "code",
      "metadata": {
        "colab": {
          "base_uri": "https://localhost:8080/",
          "height": 279
        },
        "id": "f5nrIwVPvu4l",
        "outputId": "523f4d78-39fe-4df8-e5eb-5f0c4c29cc56"
      },
      "source": [
        "plt.scatter(data_new.iloc[random_subset]['Quantity'], data_new.iloc[random_subset]['Customer ID'], alpha=0.4)\n",
        "plt.xlabel('Quantity')\n",
        "plt.ylabel('Customer ID')\n",
        "pass"
      ],
      "execution_count": null,
      "outputs": [
        {
          "output_type": "display_data",
          "data": {
            "image/png": "[encoded data removed]",
            "text/plain": [
              "<Figure size 432x288 with 1 Axes>"
            ]
          },
          "metadata": {
            "tags": [],
            "needs_background": "light"
          }
        }
      ]
    },
    {
      "cell_type": "code",
      "metadata": {
        "colab": {
          "base_uri": "https://localhost:8080/",
          "height": 279
        },
        "id": "AUOt6ouB-4q-",
        "outputId": "c2323d61-4049-4d7f-b417-d1f196d41840"
      },
      "source": [
        "plt.scatter(data_new.iloc[random_subset]['Price'], data_new.iloc[random_subset]['Customer ID'], alpha=0.4)\n",
        "plt.xlabel('Price')\n",
        "plt.ylabel('Customer ID')\n",
        "pass"
      ],
      "execution_count": null,
      "outputs": [
        {
          "output_type": "display_data",
          "data": {
            "image/png": "[encoded data removed]",
            "text/plain": [
              "<Figure size 432x288 with 1 Axes>"
            ]
          },
          "metadata": {
            "tags": [],
            "needs_background": "light"
          }
        }
      ]
    },
    {
      "cell_type": "markdown",
      "metadata": {
        "id": "NbZNAoOcq_1s"
      },
      "source": [
        "Построим матрицу корреляции для количественных признаков:"
      ]
    },
    {
      "cell_type": "code",
      "metadata": {
        "id": "IwHhT4njrHBh",
        "colab": {
          "base_uri": "https://localhost:8080/",
          "height": 142
        },
        "outputId": "ba07052c-fb98-45e7-d34c-4475c9644837"
      },
      "source": [
        "corr_mat = data_new.corr()\n",
        "corr_mat"
      ],
      "execution_count": null,
      "outputs": [
        {
          "output_type": "execute_result",
          "data": {
            "text/html": [
              "<div>\n",
              "<style scoped>\n",
              "    .dataframe tbody tr th:only-of-type {\n",
              "        vertical-align: middle;\n",
              "    }\n",
              "\n",
              "    .dataframe tbody tr th {\n",
              "        vertical-align: top;\n",
              "    }\n",
              "\n",
              "    .dataframe thead th {\n",
              "        text-align: right;\n",
              "    }\n",
              "</style>\n",
              "<table border=\"1\" class=\"dataframe\">\n",
              "  <thead>\n",
              "    <tr style=\"text-align: right;\">\n",
              "      <th></th>\n",
              "      <th>Quantity</th>\n",
              "      <th>Price</th>\n",
              "      <th>Customer ID</th>\n",
              "    </tr>\n",
              "  </thead>\n",
              "  <tbody>\n",
              "    <tr>\n",
              "      <th>Quantity</th>\n",
              "      <td>1.000000</td>\n",
              "      <td>-0.216050</td>\n",
              "      <td>-0.069157</td>\n",
              "    </tr>\n",
              "    <tr>\n",
              "      <th>Price</th>\n",
              "      <td>-0.216050</td>\n",
              "      <td>1.000000</td>\n",
              "      <td>-0.025469</td>\n",
              "    </tr>\n",
              "    <tr>\n",
              "      <th>Customer ID</th>\n",
              "      <td>-0.069157</td>\n",
              "      <td>-0.025469</td>\n",
              "      <td>1.000000</td>\n",
              "    </tr>\n",
              "  </tbody>\n",
              "</table>\n",
              "</div>"
            ],
            "text/plain": [
              "             Quantity     Price  Customer ID\n",
              "Quantity     1.000000 -0.216050    -0.069157\n",
              "Price       -0.216050  1.000000    -0.025469\n",
              "Customer ID -0.069157 -0.025469     1.000000"
            ]
          },
          "metadata": {
            "tags": []
          },
          "execution_count": 20
        }
      ]
    },
    {
      "cell_type": "markdown",
      "metadata": {
        "id": "vaDDjrO8B1i_"
      },
      "source": [
        "Удобно использовать визуальный образ этой матрицы. Чем светлее ячейка, тем больше по абсолютной величине коэффициент корреляции:"
      ]
    },
    {
      "cell_type": "code",
      "metadata": {
        "colab": {
          "base_uri": "https://localhost:8080/",
          "height": 274
        },
        "id": "cJmXwsHbB_fS",
        "outputId": "714d9078-9dda-4e03-9ef1-2eeea9ddd3b1"
      },
      "source": [
        "sns.heatmap(corr_mat, cmap='coolwarm', annot = True, vmin=-1, vmax=1, center= 0)\n",
        "pass"
      ],
      "execution_count": null,
      "outputs": [
        {
          "output_type": "display_data",
          "data": {
            "image/png": "[encoded data removed]",
            "text/plain": [
              "<Figure size 432x288 with 2 Axes>"
            ]
          },
          "metadata": {
            "tags": [],
            "needs_background": "light"
          }
        }
      ]
    },
    {
      "cell_type": "markdown",
      "metadata": {
        "id": "zaE7EtkuGsnE"
      },
      "source": [
        "Больше всего коррелируют количество и цена, но значение корреляции не очень большое."
      ]
    },
    {
      "cell_type": "markdown",
      "metadata": {
        "id": "SXGdRaj6G_n4"
      },
      "source": [
        "Интересно посмотреть, сколько раз номинальные переменные принимают то или иное значение"
      ]
    },
    {
      "cell_type": "code",
      "metadata": {
        "colab": {
          "base_uri": "https://localhost:8080/"
        },
        "id": "kkfELVGDISib",
        "outputId": "35b40cae-9aa1-4f9b-c5fc-b58d9557836b"
      },
      "source": [
        "data_new['Invoice'].value_counts()"
      ],
      "execution_count": null,
      "outputs": [
        {
          "output_type": "execute_result",
          "data": {
            "text/plain": [
              "537434     1340\n",
              "538071     1296\n",
              "537638     1196\n",
              "537237     1186\n",
              "536876     1180\n",
              "           ... \n",
              "C512530       1\n",
              "546632        1\n",
              "495083        1\n",
              "540675        1\n",
              "534773        1\n",
              "Name: Invoice, Length: 48993, dtype: int64"
            ]
          },
          "metadata": {
            "tags": []
          },
          "execution_count": 22
        }
      ]
    },
    {
      "cell_type": "code",
      "metadata": {
        "colab": {
          "base_uri": "https://localhost:8080/"
        },
        "id": "K7OBejulITd8",
        "outputId": "eaebfb2f-9a6c-44af-bb07-8204c18ff584"
      },
      "source": [
        "data_new['StockCode'].value_counts()"
      ],
      "execution_count": null,
      "outputs": [
        {
          "output_type": "execute_result",
          "data": {
            "text/plain": [
              "85123A      5770\n",
              "22423       4380\n",
              "85099B      4093\n",
              "20725       3241\n",
              "21212       3225\n",
              "            ... \n",
              "21170          1\n",
              "72798A         1\n",
              "20946          1\n",
              "84867B         1\n",
              "DCGS0044       1\n",
              "Name: StockCode, Length: 5151, dtype: int64"
            ]
          },
          "metadata": {
            "tags": []
          },
          "execution_count": 23
        }
      ]
    },
    {
      "cell_type": "code",
      "metadata": {
        "colab": {
          "base_uri": "https://localhost:8080/"
        },
        "id": "otNfRlesIUdB",
        "outputId": "d80be3a1-6039-4c31-c751-1e15f32aa959"
      },
      "source": [
        "data_new['Description'].value_counts()"
      ],
      "execution_count": null,
      "outputs": [
        {
          "output_type": "execute_result",
          "data": {
            "text/plain": [
              "WHITE HANGING HEART T-LIGHT HOLDER     5862\n",
              "REGENCY CAKESTAND 3 TIER               4380\n",
              "JUMBO BAG RED RETROSPOT                3370\n",
              "ASSORTED COLOUR BIRD ORNAMENT          2922\n",
              "PARTY BUNTING                          2759\n",
              "                                       ... \n",
              "TRAY FOR TV DINNER ,SPACEBOY              1\n",
              "rcvd be air temp fix for dotcom sit       1\n",
              "BELL HEART ANTIQUE GOLD                   1\n",
              "S/3 ROSE GARDEN SCENT SQU CANDLE          1\n",
              "thrown away                               1\n",
              "Name: Description, Length: 5452, dtype: int64"
            ]
          },
          "metadata": {
            "tags": []
          },
          "execution_count": 24
        }
      ]
    },
    {
      "cell_type": "code",
      "metadata": {
        "colab": {
          "base_uri": "https://localhost:8080/"
        },
        "id": "B0gJfjTrIheh",
        "outputId": "08fc64df-0339-4b71-a319-e2846da97a21"
      },
      "source": [
        "data_new['InvoiceDate'].value_counts()"
      ],
      "execution_count": null,
      "outputs": [
        {
          "output_type": "execute_result",
          "data": {
            "text/plain": [
              "2010-12-06 16:57:00    1340\n",
              "2010-12-09 14:09:00    1296\n",
              "2010-12-07 15:28:00    1196\n",
              "2010-12-06 09:58:00    1186\n",
              "2010-12-03 11:36:00    1180\n",
              "                       ... \n",
              "2011-11-16 11:09:00       1\n",
              "2010-04-07 15:54:00       1\n",
              "2010-06-29 14:52:00       1\n",
              "2011-06-26 11:00:00       1\n",
              "2011-02-11 15:05:00       1\n",
              "Name: InvoiceDate, Length: 44306, dtype: int64"
            ]
          },
          "metadata": {
            "tags": []
          },
          "execution_count": 25
        }
      ]
    },
    {
      "cell_type": "code",
      "metadata": {
        "colab": {
          "base_uri": "https://localhost:8080/"
        },
        "id": "IEHlb7TyHKZq",
        "outputId": "87907926-419c-4431-d626-34ed19546865"
      },
      "source": [
        "data_new['Country'].value_counts()"
      ],
      "execution_count": null,
      "outputs": [
        {
          "output_type": "execute_result",
          "data": {
            "text/plain": [
              "United Kingdom          969182\n",
              "Germany                  17515\n",
              "EIRE                     17210\n",
              "France                   14148\n",
              "Netherlands               4614\n",
              "Spain                     3638\n",
              "Switzerland               3123\n",
              "Belgium                   3109\n",
              "Portugal                  2543\n",
              "Australia                 1748\n",
              "Channel Islands           1620\n",
              "Italy                     1496\n",
              "Norway                    1420\n",
              "Sweden                    1166\n",
              "Cyprus                    1153\n",
              "Finland                    999\n",
              "Austria                    891\n",
              "Unspecified                754\n",
              "Denmark                    752\n",
              "Greece                     656\n",
              "Japan                      533\n",
              "Poland                     523\n",
              "USA                        499\n",
              "United Arab Emirates       479\n",
              "Israel                     366\n",
              "Hong Kong                  351\n",
              "Singapore                  329\n",
              "Malta                      291\n",
              "Iceland                    252\n",
              "Canada                     225\n",
              "Lithuania                  189\n",
              "RSA                        167\n",
              "Bahrain                    125\n",
              "Brazil                      94\n",
              "Thailand                    71\n",
              "Korea                       62\n",
              "European Community          61\n",
              "Lebanon                     56\n",
              "West Indies                 54\n",
              "Bermuda                     32\n",
              "Nigeria                     29\n",
              "Czech Republic              25\n",
              "Saudi Arabia                10\n",
              "Name: Country, dtype: int64"
            ]
          },
          "metadata": {
            "tags": []
          },
          "execution_count": 26
        }
      ]
    },
    {
      "cell_type": "markdown",
      "metadata": {
        "id": "Cqahs4hfI-JQ"
      },
      "source": [
        "Несбалансированным является класс Country"
      ]
    },
    {
      "cell_type": "markdown",
      "metadata": {
        "id": "3KHvu1b-JWZ1"
      },
      "source": [
        "United Kingdom (969182) - 92%\n",
        "\n",
        "EIRE (17210) - 2%\n",
        "\n",
        "Other (68175) - 6%"
      ]
    },
    {
      "cell_type": "markdown",
      "metadata": {
        "id": "cj_zO22UJu5f"
      },
      "source": [
        "# **Заполнение пропущенных значений¶**"
      ]
    },
    {
      "cell_type": "markdown",
      "metadata": {
        "id": "hrhffe4pKAzF"
      },
      "source": [
        "Пропущенные значения в таблице представлены значениями np.nan. Посмотрим, сколько пропущенных значений в каждом столбце матрицы:"
      ]
    },
    {
      "cell_type": "code",
      "metadata": {
        "colab": {
          "base_uri": "https://localhost:8080/"
        },
        "id": "EyqRTgs6KEhP",
        "outputId": "505386a5-f5e3-49f6-e508-812ab07355d1"
      },
      "source": [
        "data_new.isna().sum()"
      ],
      "execution_count": 62,
      "outputs": [
        {
          "output_type": "execute_result",
          "data": {
            "text/plain": [
              "Invoice             0\n",
              "StockCode           0\n",
              "Description      2655\n",
              "Quantity            0\n",
              "InvoiceDate         0\n",
              "Price               0\n",
              "Customer ID    237503\n",
              "Country             0\n",
              "dtype: int64"
            ]
          },
          "metadata": {
            "tags": []
          },
          "execution_count": 62
        }
      ]
    },
    {
      "cell_type": "markdown",
      "metadata": {
        "id": "88V6p4dRKY1Y"
      },
      "source": [
        "С пропущенными значениями надо что-то сделать. Например, можно просто удалить строки с пропущенными значениями. В нашем случае это разумно, так как таких строк немного."
      ]
    },
    {
      "cell_type": "markdown",
      "metadata": {
        "id": "Ll8Y1iSxKdpP"
      },
      "source": [
        "Простая разумная стратегия - заполнить пропущенные значения средним или медианой (для количественных признаков) или модой (для номинальных признаков)."
      ]
    },
    {
      "cell_type": "markdown",
      "metadata": {
        "id": "0OQOJt1PKkmM"
      },
      "source": [
        "Заполним медианами пропущенные значения в столбце, соответствующем числовому признаку:"
      ]
    },
    {
      "cell_type": "code",
      "metadata": {
        "id": "E_Tc6dBNKyqs"
      },
      "source": [
        "data_nonbinary = data_new\n",
        "data_nonbinary.fillna(data_new.median(axis = 0), axis=0 , inplace=True)"
      ],
      "execution_count": 63,
      "outputs": []
    },
    {
      "cell_type": "code",
      "metadata": {
        "colab": {
          "base_uri": "https://localhost:8080/"
        },
        "id": "ixinLnhELWS_",
        "outputId": "b9cce4e9-8277-4597-8469-12f19180957a"
      },
      "source": [
        "data_nonbinary.isna().sum()"
      ],
      "execution_count": 64,
      "outputs": [
        {
          "output_type": "execute_result",
          "data": {
            "text/plain": [
              "Invoice           0\n",
              "StockCode         0\n",
              "Description    2655\n",
              "Quantity          0\n",
              "InvoiceDate       0\n",
              "Price             0\n",
              "Customer ID       0\n",
              "Country           0\n",
              "dtype: int64"
            ]
          },
          "metadata": {
            "tags": []
          },
          "execution_count": 64
        }
      ]
    },
    {
      "cell_type": "markdown",
      "metadata": {
        "id": "Dg632dnOLhnu"
      },
      "source": [
        "Пропущенные значения в столбце, соответствующему категориальному признаку, заполним модой:"
      ]
    },
    {
      "cell_type": "code",
      "metadata": {
        "id": "qndDs1laLvly"
      },
      "source": [
        "data_nonbinary['Description'].fillna(data_nonbinary['Description'].mode().iloc[0], inplace=True)"
      ],
      "execution_count": 65,
      "outputs": []
    },
    {
      "cell_type": "code",
      "metadata": {
        "colab": {
          "base_uri": "https://localhost:8080/"
        },
        "id": "oaxgOTQjL3I0",
        "outputId": "363956d7-55a6-4509-8e0a-02b6d497a273"
      },
      "source": [
        "data_nonbinary.isna().sum()"
      ],
      "execution_count": 66,
      "outputs": [
        {
          "output_type": "execute_result",
          "data": {
            "text/plain": [
              "Invoice        0\n",
              "StockCode      0\n",
              "Description    0\n",
              "Quantity       0\n",
              "InvoiceDate    0\n",
              "Price          0\n",
              "Customer ID    0\n",
              "Country        0\n",
              "dtype: int64"
            ]
          },
          "metadata": {
            "tags": []
          },
          "execution_count": 66
        }
      ]
    },
    {
      "cell_type": "code",
      "metadata": {
        "colab": {
          "base_uri": "https://localhost:8080/",
          "height": 297
        },
        "id": "f92-qA0NL76k",
        "outputId": "88f5e38e-43c5-48fd-9d5d-32537c78ef2b"
      },
      "source": [
        "data_nonbinary.describe()"
      ],
      "execution_count": null,
      "outputs": [
        {
          "output_type": "execute_result",
          "data": {
            "text/html": [
              "<div>\n",
              "<style scoped>\n",
              "    .dataframe tbody tr th:only-of-type {\n",
              "        vertical-align: middle;\n",
              "    }\n",
              "\n",
              "    .dataframe tbody tr th {\n",
              "        vertical-align: top;\n",
              "    }\n",
              "\n",
              "    .dataframe thead th {\n",
              "        text-align: right;\n",
              "    }\n",
              "</style>\n",
              "<table border=\"1\" class=\"dataframe\">\n",
              "  <thead>\n",
              "    <tr style=\"text-align: right;\">\n",
              "      <th></th>\n",
              "      <th>Quantity</th>\n",
              "      <th>Price</th>\n",
              "      <th>Customer ID</th>\n",
              "    </tr>\n",
              "  </thead>\n",
              "  <tbody>\n",
              "    <tr>\n",
              "      <th>count</th>\n",
              "      <td>1.052560e+06</td>\n",
              "      <td>1.052560e+06</td>\n",
              "      <td>1.052560e+06</td>\n",
              "    </tr>\n",
              "    <tr>\n",
              "      <th>mean</th>\n",
              "      <td>8.434697e+00</td>\n",
              "      <td>3.276951e+00</td>\n",
              "      <td>1.531215e+04</td>\n",
              "    </tr>\n",
              "    <tr>\n",
              "      <th>std</th>\n",
              "      <td>1.584143e+01</td>\n",
              "      <td>3.307626e+00</td>\n",
              "      <td>1.492694e+03</td>\n",
              "    </tr>\n",
              "    <tr>\n",
              "      <th>min</th>\n",
              "      <td>-1.200000e+01</td>\n",
              "      <td>0.000000e+00</td>\n",
              "      <td>1.234600e+04</td>\n",
              "    </tr>\n",
              "    <tr>\n",
              "      <th>25%</th>\n",
              "      <td>1.000000e+00</td>\n",
              "      <td>1.250000e+00</td>\n",
              "      <td>1.436775e+04</td>\n",
              "    </tr>\n",
              "    <tr>\n",
              "      <th>50%</th>\n",
              "      <td>3.000000e+00</td>\n",
              "      <td>2.100000e+00</td>\n",
              "      <td>1.526200e+04</td>\n",
              "    </tr>\n",
              "    <tr>\n",
              "      <th>75%</th>\n",
              "      <td>1.000000e+01</td>\n",
              "      <td>4.130000e+00</td>\n",
              "      <td>1.638300e+04</td>\n",
              "    </tr>\n",
              "    <tr>\n",
              "      <th>max</th>\n",
              "      <td>1.920000e+02</td>\n",
              "      <td>2.549000e+01</td>\n",
              "      <td>1.828700e+04</td>\n",
              "    </tr>\n",
              "  </tbody>\n",
              "</table>\n",
              "</div>"
            ],
            "text/plain": [
              "           Quantity         Price   Customer ID\n",
              "count  1.052560e+06  1.052560e+06  1.052560e+06\n",
              "mean   8.434697e+00  3.276951e+00  1.531215e+04\n",
              "std    1.584143e+01  3.307626e+00  1.492694e+03\n",
              "min   -1.200000e+01  0.000000e+00  1.234600e+04\n",
              "25%    1.000000e+00  1.250000e+00  1.436775e+04\n",
              "50%    3.000000e+00  2.100000e+00  1.526200e+04\n",
              "75%    1.000000e+01  4.130000e+00  1.638300e+04\n",
              "max    1.920000e+02  2.549000e+01  1.828700e+04"
            ]
          },
          "metadata": {
            "tags": []
          },
          "execution_count": 32
        }
      ]
    },
    {
      "cell_type": "code",
      "metadata": {
        "colab": {
          "base_uri": "https://localhost:8080/"
        },
        "id": "tpcZW4JSMHEt",
        "outputId": "3e0c3b53-cd62-4d24-ae27-34d045284447"
      },
      "source": [
        "data_nonbinary.shape"
      ],
      "execution_count": null,
      "outputs": [
        {
          "output_type": "execute_result",
          "data": {
            "text/plain": [
              "(1052560, 8)"
            ]
          },
          "metadata": {
            "tags": []
          },
          "execution_count": 33
        }
      ]
    },
    {
      "cell_type": "markdown",
      "metadata": {
        "id": "T0wEm7ASag-0"
      },
      "source": [
        "# **Бинаризация номинальных признаков**"
      ]
    },
    {
      "cell_type": "code",
      "metadata": {
        "colab": {
          "base_uri": "https://localhost:8080/"
        },
        "id": "DST40Lw6HgCn",
        "outputId": "2ef1c689-6aba-45e9-eacb-a61e30bc49e2"
      },
      "source": [
        "data_nonbinary['Country'].unique()"
      ],
      "execution_count": null,
      "outputs": [
        {
          "output_type": "execute_result",
          "data": {
            "text/plain": [
              "array(['United Kingdom', 'France', 'Australia', 'EIRE', 'Germany',\n",
              "       'Portugal', 'Netherlands', 'Poland', 'Spain', 'Channel Islands',\n",
              "       'Italy', 'Cyprus', 'Belgium', 'Greece', 'Norway', 'Austria',\n",
              "       'Denmark', 'Sweden', 'United Arab Emirates', 'Finland',\n",
              "       'Switzerland', 'USA', 'Japan', 'Unspecified', 'Malta', 'Bahrain',\n",
              "       'RSA', 'Bermuda', 'Hong Kong', 'Singapore', 'Thailand', 'Israel',\n",
              "       'Lithuania', 'Nigeria', 'West Indies', 'Lebanon', 'Korea',\n",
              "       'Brazil', 'Canada', 'Iceland', 'Saudi Arabia', 'Czech Republic',\n",
              "       'European Community'], dtype=object)"
            ]
          },
          "metadata": {
            "tags": []
          },
          "execution_count": 50
        }
      ]
    },
    {
      "cell_type": "code",
      "metadata": {
        "colab": {
          "base_uri": "https://localhost:8080/"
        },
        "id": "_14LSVVBHwkO",
        "outputId": "003c93e2-449a-4588-8a24-42e5c0230cf2"
      },
      "source": [
        "data_nonbinary['Invoice'].unique()"
      ],
      "execution_count": null,
      "outputs": [
        {
          "output_type": "execute_result",
          "data": {
            "text/plain": [
              "array(['489434', '489435', '489436', ..., '581585', '581586', '581587'],\n",
              "      dtype=object)"
            ]
          },
          "metadata": {
            "tags": []
          },
          "execution_count": 9
        }
      ]
    },
    {
      "cell_type": "code",
      "metadata": {
        "colab": {
          "base_uri": "https://localhost:8080/"
        },
        "id": "9dxf53d5HzN4",
        "outputId": "be2bd41f-f250-45df-e75e-0d37e89e3571"
      },
      "source": [
        "data_nonbinary['StockCode'].unique()"
      ],
      "execution_count": null,
      "outputs": [
        {
          "output_type": "execute_result",
          "data": {
            "text/plain": [
              "array(['85048', '79323P', '79323W', ..., '23561', '23609', '23617'],\n",
              "      dtype=object)"
            ]
          },
          "metadata": {
            "tags": []
          },
          "execution_count": 10
        }
      ]
    },
    {
      "cell_type": "code",
      "metadata": {
        "colab": {
          "base_uri": "https://localhost:8080/"
        },
        "id": "zpwc4MfmH3ev",
        "outputId": "5a261389-e10c-451a-d247-fa2ecd304ff5"
      },
      "source": [
        "data_nonbinary['Description'].unique()"
      ],
      "execution_count": null,
      "outputs": [
        {
          "output_type": "execute_result",
          "data": {
            "text/plain": [
              "array(['15CM CHRISTMAS GLASS BALL 20 LIGHTS', 'PINK CHERRY LIGHTS',\n",
              "       ' WHITE CHERRY LIGHTS', ..., 'SET 10 CARDS SNOWY ROBIN 17099',\n",
              "       'SET 10 CARDS SWIRLY XMAS TREE 17104',\n",
              "       'CREAM HANGING HEART T-LIGHT HOLDER'], dtype=object)"
            ]
          },
          "metadata": {
            "tags": []
          },
          "execution_count": 11
        }
      ]
    },
    {
      "cell_type": "code",
      "metadata": {
        "colab": {
          "base_uri": "https://localhost:8080/"
        },
        "id": "b0KL7w_MH52n",
        "outputId": "93c54dd5-b356-41e2-d455-e284d790cd84"
      },
      "source": [
        "data_nonbinary['InvoiceDate'].unique()"
      ],
      "execution_count": null,
      "outputs": [
        {
          "output_type": "execute_result",
          "data": {
            "text/plain": [
              "array(['2009-12-01 07:45:00', '2009-12-01 07:46:00',\n",
              "       '2009-12-01 09:06:00', ..., '2011-12-09 12:31:00',\n",
              "       '2011-12-09 12:49:00', '2011-12-09 12:50:00'], dtype=object)"
            ]
          },
          "metadata": {
            "tags": []
          },
          "execution_count": 7
        }
      ]
    },
    {
      "cell_type": "code",
      "metadata": {
        "id": "i63I5ivAa_SP"
      },
      "source": [
        "data_nonbinary = data_nonbinary.drop(['Invoice', 'StockCode', 'Description', 'InvoiceDate'], axis = 1)\n",
        "data_nonbinary = data_nonbinary.drop(['Quantity', 'Price', 'Customer ID'], axis = 1)"
      ],
      "execution_count": 67,
      "outputs": []
    },
    {
      "cell_type": "markdown",
      "metadata": {
        "id": "t4m4cNMkjsUw"
      },
      "source": [
        "# **Нормализация количественных признаков**"
      ]
    },
    {
      "cell_type": "markdown",
      "metadata": {
        "id": "JL0vX0b-j1aQ"
      },
      "source": [
        "Выполним стандартизацию всех признаков (линейное преобразование, приводящее все значения к нулевому среднему и единичному стандартному отклонению):"
      ]
    },
    {
      "cell_type": "code",
      "metadata": {
        "colab": {
          "base_uri": "https://localhost:8080/",
          "height": 297
        },
        "id": "29VLnlOTj7OP",
        "outputId": "fcadf6f1-b1e8-4cb2-d544-cbbb4763ce91"
      },
      "source": [
        "data_numerical = pd.concat([data_new['Quantity'], \n",
        "                        data_new['Price'],\n",
        "                        data_new['Customer ID']], axis=1)\n",
        "data_numerical.describe()"
      ],
      "execution_count": 68,
      "outputs": [
        {
          "output_type": "execute_result",
          "data": {
            "text/html": [
              "<div>\n",
              "<style scoped>\n",
              "    .dataframe tbody tr th:only-of-type {\n",
              "        vertical-align: middle;\n",
              "    }\n",
              "\n",
              "    .dataframe tbody tr th {\n",
              "        vertical-align: top;\n",
              "    }\n",
              "\n",
              "    .dataframe thead th {\n",
              "        text-align: right;\n",
              "    }\n",
              "</style>\n",
              "<table border=\"1\" class=\"dataframe\">\n",
              "  <thead>\n",
              "    <tr style=\"text-align: right;\">\n",
              "      <th></th>\n",
              "      <th>Quantity</th>\n",
              "      <th>Price</th>\n",
              "      <th>Customer ID</th>\n",
              "    </tr>\n",
              "  </thead>\n",
              "  <tbody>\n",
              "    <tr>\n",
              "      <th>count</th>\n",
              "      <td>1.052560e+06</td>\n",
              "      <td>1.052560e+06</td>\n",
              "      <td>1.052560e+06</td>\n",
              "    </tr>\n",
              "    <tr>\n",
              "      <th>mean</th>\n",
              "      <td>8.434697e+00</td>\n",
              "      <td>3.276951e+00</td>\n",
              "      <td>1.531215e+04</td>\n",
              "    </tr>\n",
              "    <tr>\n",
              "      <th>std</th>\n",
              "      <td>1.584143e+01</td>\n",
              "      <td>3.307626e+00</td>\n",
              "      <td>1.492694e+03</td>\n",
              "    </tr>\n",
              "    <tr>\n",
              "      <th>min</th>\n",
              "      <td>-1.200000e+01</td>\n",
              "      <td>0.000000e+00</td>\n",
              "      <td>1.234600e+04</td>\n",
              "    </tr>\n",
              "    <tr>\n",
              "      <th>25%</th>\n",
              "      <td>1.000000e+00</td>\n",
              "      <td>1.250000e+00</td>\n",
              "      <td>1.436775e+04</td>\n",
              "    </tr>\n",
              "    <tr>\n",
              "      <th>50%</th>\n",
              "      <td>3.000000e+00</td>\n",
              "      <td>2.100000e+00</td>\n",
              "      <td>1.526200e+04</td>\n",
              "    </tr>\n",
              "    <tr>\n",
              "      <th>75%</th>\n",
              "      <td>1.000000e+01</td>\n",
              "      <td>4.130000e+00</td>\n",
              "      <td>1.638300e+04</td>\n",
              "    </tr>\n",
              "    <tr>\n",
              "      <th>max</th>\n",
              "      <td>1.920000e+02</td>\n",
              "      <td>2.549000e+01</td>\n",
              "      <td>1.828700e+04</td>\n",
              "    </tr>\n",
              "  </tbody>\n",
              "</table>\n",
              "</div>"
            ],
            "text/plain": [
              "           Quantity         Price   Customer ID\n",
              "count  1.052560e+06  1.052560e+06  1.052560e+06\n",
              "mean   8.434697e+00  3.276951e+00  1.531215e+04\n",
              "std    1.584143e+01  3.307626e+00  1.492694e+03\n",
              "min   -1.200000e+01  0.000000e+00  1.234600e+04\n",
              "25%    1.000000e+00  1.250000e+00  1.436775e+04\n",
              "50%    3.000000e+00  2.100000e+00  1.526200e+04\n",
              "75%    1.000000e+01  4.130000e+00  1.638300e+04\n",
              "max    1.920000e+02  2.549000e+01  1.828700e+04"
            ]
          },
          "metadata": {
            "tags": []
          },
          "execution_count": 68
        }
      ]
    },
    {
      "cell_type": "code",
      "metadata": {
        "id": "zn0I4l0Mlz3B"
      },
      "source": [
        "data_numerical = (data_numerical - data_numerical.mean(axis = 0))/data_numerical.std(axis = 0)"
      ],
      "execution_count": 69,
      "outputs": []
    },
    {
      "cell_type": "code",
      "metadata": {
        "colab": {
          "base_uri": "https://localhost:8080/",
          "height": 297
        },
        "id": "CA5ULd4PnKh_",
        "outputId": "7f504661-639b-441c-e574-5e9fac7a9da0"
      },
      "source": [
        "data_numerical.describe()"
      ],
      "execution_count": 70,
      "outputs": [
        {
          "output_type": "execute_result",
          "data": {
            "text/html": [
              "<div>\n",
              "<style scoped>\n",
              "    .dataframe tbody tr th:only-of-type {\n",
              "        vertical-align: middle;\n",
              "    }\n",
              "\n",
              "    .dataframe tbody tr th {\n",
              "        vertical-align: top;\n",
              "    }\n",
              "\n",
              "    .dataframe thead th {\n",
              "        text-align: right;\n",
              "    }\n",
              "</style>\n",
              "<table border=\"1\" class=\"dataframe\">\n",
              "  <thead>\n",
              "    <tr style=\"text-align: right;\">\n",
              "      <th></th>\n",
              "      <th>Quantity</th>\n",
              "      <th>Price</th>\n",
              "      <th>Customer ID</th>\n",
              "    </tr>\n",
              "  </thead>\n",
              "  <tbody>\n",
              "    <tr>\n",
              "      <th>count</th>\n",
              "      <td>1.052560e+06</td>\n",
              "      <td>1.052560e+06</td>\n",
              "      <td>1.052560e+06</td>\n",
              "    </tr>\n",
              "    <tr>\n",
              "      <th>mean</th>\n",
              "      <td>-5.009061e-14</td>\n",
              "      <td>-1.926499e-12</td>\n",
              "      <td>2.368670e-14</td>\n",
              "    </tr>\n",
              "    <tr>\n",
              "      <th>std</th>\n",
              "      <td>1.000000e+00</td>\n",
              "      <td>1.000000e+00</td>\n",
              "      <td>1.000000e+00</td>\n",
              "    </tr>\n",
              "    <tr>\n",
              "      <th>min</th>\n",
              "      <td>-1.289952e+00</td>\n",
              "      <td>-9.907260e-01</td>\n",
              "      <td>-1.987111e+00</td>\n",
              "    </tr>\n",
              "    <tr>\n",
              "      <th>25%</th>\n",
              "      <td>-4.693197e-01</td>\n",
              "      <td>-6.128114e-01</td>\n",
              "      <td>-6.326812e-01</td>\n",
              "    </tr>\n",
              "    <tr>\n",
              "      <th>50%</th>\n",
              "      <td>-3.430685e-01</td>\n",
              "      <td>-3.558296e-01</td>\n",
              "      <td>-3.359678e-02</td>\n",
              "    </tr>\n",
              "    <tr>\n",
              "      <th>75%</th>\n",
              "      <td>9.881066e-02</td>\n",
              "      <td>2.579036e-01</td>\n",
              "      <td>7.173942e-01</td>\n",
              "    </tr>\n",
              "    <tr>\n",
              "      <th>max</th>\n",
              "      <td>1.158767e+01</td>\n",
              "      <td>6.715707e+00</td>\n",
              "      <td>1.992940e+00</td>\n",
              "    </tr>\n",
              "  </tbody>\n",
              "</table>\n",
              "</div>"
            ],
            "text/plain": [
              "           Quantity         Price   Customer ID\n",
              "count  1.052560e+06  1.052560e+06  1.052560e+06\n",
              "mean  -5.009061e-14 -1.926499e-12  2.368670e-14\n",
              "std    1.000000e+00  1.000000e+00  1.000000e+00\n",
              "min   -1.289952e+00 -9.907260e-01 -1.987111e+00\n",
              "25%   -4.693197e-01 -6.128114e-01 -6.326812e-01\n",
              "50%   -3.430685e-01 -3.558296e-01 -3.359678e-02\n",
              "75%    9.881066e-02  2.579036e-01  7.173942e-01\n",
              "max    1.158767e+01  6.715707e+00  1.992940e+00"
            ]
          },
          "metadata": {
            "tags": []
          },
          "execution_count": 70
        }
      ]
    },
    {
      "cell_type": "markdown",
      "metadata": {
        "id": "z0UanzG5O7Ve"
      },
      "source": [
        "# **Соединяем все в одну таблицу**"
      ]
    },
    {
      "cell_type": "code",
      "metadata": {
        "colab": {
          "base_uri": "https://localhost:8080/",
          "height": 419
        },
        "id": "bfb7uR8EoahB",
        "outputId": "0ba9ca92-c818-4173-ed04-06ff008a8289"
      },
      "source": [
        "data_study = pd.concat([data_numerical, data_nonbinary], axis=1)\n",
        "data_study"
      ],
      "execution_count": 71,
      "outputs": [
        {
          "output_type": "execute_result",
          "data": {
            "text/html": [
              "<div>\n",
              "<style scoped>\n",
              "    .dataframe tbody tr th:only-of-type {\n",
              "        vertical-align: middle;\n",
              "    }\n",
              "\n",
              "    .dataframe tbody tr th {\n",
              "        vertical-align: top;\n",
              "    }\n",
              "\n",
              "    .dataframe thead th {\n",
              "        text-align: right;\n",
              "    }\n",
              "</style>\n",
              "<table border=\"1\" class=\"dataframe\">\n",
              "  <thead>\n",
              "    <tr style=\"text-align: right;\">\n",
              "      <th></th>\n",
              "      <th>Quantity</th>\n",
              "      <th>Price</th>\n",
              "      <th>Customer ID</th>\n",
              "      <th>Country</th>\n",
              "    </tr>\n",
              "  </thead>\n",
              "  <tbody>\n",
              "    <tr>\n",
              "      <th>0</th>\n",
              "      <td>0.225062</td>\n",
              "      <td>1.110479</td>\n",
              "      <td>-1.492033</td>\n",
              "      <td>United Kingdom</td>\n",
              "    </tr>\n",
              "    <tr>\n",
              "      <th>1</th>\n",
              "      <td>0.225062</td>\n",
              "      <td>1.050012</td>\n",
              "      <td>-1.492033</td>\n",
              "      <td>United Kingdom</td>\n",
              "    </tr>\n",
              "    <tr>\n",
              "      <th>2</th>\n",
              "      <td>0.225062</td>\n",
              "      <td>1.050012</td>\n",
              "      <td>-1.492033</td>\n",
              "      <td>United Kingdom</td>\n",
              "    </tr>\n",
              "    <tr>\n",
              "      <th>3</th>\n",
              "      <td>2.497583</td>\n",
              "      <td>-0.355830</td>\n",
              "      <td>-1.492033</td>\n",
              "      <td>United Kingdom</td>\n",
              "    </tr>\n",
              "    <tr>\n",
              "      <th>4</th>\n",
              "      <td>0.982569</td>\n",
              "      <td>-0.612811</td>\n",
              "      <td>-1.492033</td>\n",
              "      <td>United Kingdom</td>\n",
              "    </tr>\n",
              "    <tr>\n",
              "      <th>...</th>\n",
              "      <td>...</td>\n",
              "      <td>...</td>\n",
              "      <td>...</td>\n",
              "      <td>...</td>\n",
              "    </tr>\n",
              "    <tr>\n",
              "      <th>1067366</th>\n",
              "      <td>-0.153692</td>\n",
              "      <td>-0.355830</td>\n",
              "      <td>-1.763355</td>\n",
              "      <td>France</td>\n",
              "    </tr>\n",
              "    <tr>\n",
              "      <th>1067367</th>\n",
              "      <td>-0.279943</td>\n",
              "      <td>0.263950</td>\n",
              "      <td>-1.763355</td>\n",
              "      <td>France</td>\n",
              "    </tr>\n",
              "    <tr>\n",
              "      <th>1067368</th>\n",
              "      <td>-0.279943</td>\n",
              "      <td>0.263950</td>\n",
              "      <td>-1.763355</td>\n",
              "      <td>France</td>\n",
              "    </tr>\n",
              "    <tr>\n",
              "      <th>1067369</th>\n",
              "      <td>-0.343069</td>\n",
              "      <td>0.505816</td>\n",
              "      <td>-1.763355</td>\n",
              "      <td>France</td>\n",
              "    </tr>\n",
              "    <tr>\n",
              "      <th>1067370</th>\n",
              "      <td>-0.469320</td>\n",
              "      <td>4.451243</td>\n",
              "      <td>-1.763355</td>\n",
              "      <td>France</td>\n",
              "    </tr>\n",
              "  </tbody>\n",
              "</table>\n",
              "<p>1052560 rows × 4 columns</p>\n",
              "</div>"
            ],
            "text/plain": [
              "         Quantity     Price  Customer ID         Country\n",
              "0        0.225062  1.110479    -1.492033  United Kingdom\n",
              "1        0.225062  1.050012    -1.492033  United Kingdom\n",
              "2        0.225062  1.050012    -1.492033  United Kingdom\n",
              "3        2.497583 -0.355830    -1.492033  United Kingdom\n",
              "4        0.982569 -0.612811    -1.492033  United Kingdom\n",
              "...           ...       ...          ...             ...\n",
              "1067366 -0.153692 -0.355830    -1.763355          France\n",
              "1067367 -0.279943  0.263950    -1.763355          France\n",
              "1067368 -0.279943  0.263950    -1.763355          France\n",
              "1067369 -0.343069  0.505816    -1.763355          France\n",
              "1067370 -0.469320  4.451243    -1.763355          France\n",
              "\n",
              "[1052560 rows x 4 columns]"
            ]
          },
          "metadata": {
            "tags": []
          },
          "execution_count": 71
        }
      ]
    },
    {
      "cell_type": "markdown",
      "metadata": {
        "id": "6vrS4e3YPEg7"
      },
      "source": [
        "# **X и y**"
      ]
    },
    {
      "cell_type": "code",
      "metadata": {
        "id": "1Xs5x6yfPKwx"
      },
      "source": [
        "X = data_study.drop('Country', axis = 1)\n",
        "y = data_study['Country']"
      ],
      "execution_count": 72,
      "outputs": []
    },
    {
      "cell_type": "code",
      "metadata": {
        "colab": {
          "base_uri": "https://localhost:8080/"
        },
        "id": "djaqg3T3PmBh",
        "outputId": "3138b2b7-a8b7-4d47-97cd-016441474f75"
      },
      "source": [
        "X = X.to_numpy()\n",
        "X"
      ],
      "execution_count": 73,
      "outputs": [
        {
          "output_type": "execute_result",
          "data": {
            "text/plain": [
              "array([[ 0.22506185,  1.11047879, -1.49203328],\n",
              "       [ 0.22506185,  1.05001247, -1.49203328],\n",
              "       [ 0.22506185,  1.05001247, -1.49203328],\n",
              "       ...,\n",
              "       [-0.27994291,  0.26395026, -1.76335472],\n",
              "       [-0.3430685 ,  0.50581555, -1.76335472],\n",
              "       [-0.46931969,  4.45124318, -1.76335472]])"
            ]
          },
          "metadata": {
            "tags": []
          },
          "execution_count": 73
        }
      ]
    },
    {
      "cell_type": "code",
      "metadata": {
        "colab": {
          "base_uri": "https://localhost:8080/"
        },
        "id": "Pig4lzbQQn_c",
        "outputId": "9b9dfb23-e635-4fd4-a9be-458856a6d109"
      },
      "source": [
        "y.unique()"
      ],
      "execution_count": 74,
      "outputs": [
        {
          "output_type": "execute_result",
          "data": {
            "text/plain": [
              "array(['United Kingdom', 'France', 'Australia', 'EIRE', 'Germany',\n",
              "       'Portugal', 'Netherlands', 'Poland', 'Spain', 'Channel Islands',\n",
              "       'Italy', 'Cyprus', 'Belgium', 'Greece', 'Norway', 'Austria',\n",
              "       'Denmark', 'Sweden', 'United Arab Emirates', 'Finland',\n",
              "       'Switzerland', 'USA', 'Japan', 'Unspecified', 'Malta', 'Bahrain',\n",
              "       'RSA', 'Bermuda', 'Hong Kong', 'Singapore', 'Thailand', 'Israel',\n",
              "       'Lithuania', 'Nigeria', 'West Indies', 'Lebanon', 'Korea',\n",
              "       'Brazil', 'Canada', 'Iceland', 'Saudi Arabia', 'Czech Republic',\n",
              "       'European Community'], dtype=object)"
            ]
          },
          "metadata": {
            "tags": []
          },
          "execution_count": 74
        }
      ]
    },
    {
      "cell_type": "code",
      "metadata": {
        "colab": {
          "base_uri": "https://localhost:8080/"
        },
        "id": "mU5KDfotQrQ1",
        "outputId": "13a4b438-6bdf-46ad-8559-39cc21c474a2"
      },
      "source": [
        "y = y.replace(['United Kingdom', 'France', 'USA', 'Belgium', 'Australia', 'EIRE',\n",
        "       'Germany', 'Portugal', 'Japan', 'Denmark', 'Nigeria',\n",
        "       'Netherlands', 'Poland', 'Spain', 'Channel Islands', 'Italy',\n",
        "       'Cyprus', 'Greece', 'Norway', 'Austria', 'Sweden',\n",
        "       'United Arab Emirates', 'Finland', 'Switzerland', 'Unspecified',\n",
        "       'Malta', 'Bahrain', 'RSA', 'Bermuda', 'Hong Kong', 'Singapore',\n",
        "       'Thailand', 'Israel', 'Lithuania', 'West Indies', 'Lebanon',\n",
        "       'Korea', 'Brazil', 'Canada', 'Iceland', 'Saudi Arabia',\n",
        "       'Czech Republic', 'European Community'], [0, 1, 2, 3, 4, 5, 6, 7, 8, 9, 10, 11, 12, 13, 14, 15, 16, 17, 18, 19, 20, 21, 22, 23, 24, 25, 26, 27, 28, 29, 30, 31, 32, 33, 34, 35, 36, 37, 38, 39, 40, 41, 42])\n",
        "y"
      ],
      "execution_count": 75,
      "outputs": [
        {
          "output_type": "execute_result",
          "data": {
            "text/plain": [
              "0          0\n",
              "1          0\n",
              "2          0\n",
              "3          0\n",
              "4          0\n",
              "          ..\n",
              "1067366    1\n",
              "1067367    1\n",
              "1067368    1\n",
              "1067369    1\n",
              "1067370    1\n",
              "Name: Country, Length: 1052560, dtype: int64"
            ]
          },
          "metadata": {
            "tags": []
          },
          "execution_count": 75
        }
      ]
    },
    {
      "cell_type": "code",
      "metadata": {
        "colab": {
          "base_uri": "https://localhost:8080/"
        },
        "id": "GSJXROpRWCbb",
        "outputId": "d5904c5b-e7b8-4469-b099-9a1530f6fd99"
      },
      "source": [
        "y.to_numpy()"
      ],
      "execution_count": 76,
      "outputs": [
        {
          "output_type": "execute_result",
          "data": {
            "text/plain": [
              "array([0, 0, 0, ..., 1, 1, 1])"
            ]
          },
          "metadata": {
            "tags": []
          },
          "execution_count": 76
        }
      ]
    },
    {
      "cell_type": "code",
      "metadata": {
        "colab": {
          "base_uri": "https://localhost:8080/"
        },
        "id": "KlpVJjzaWOzD",
        "outputId": "1e74683d-2d6a-4ad8-f0af-4e8ce8effec5"
      },
      "source": [
        "print(X.shape)\n",
        "print(y.shape)\n",
        "N, d = X.shape"
      ],
      "execution_count": 77,
      "outputs": [
        {
          "output_type": "stream",
          "text": [
            "(1052560, 3)\n",
            "(1052560,)\n"
          ],
          "name": "stdout"
        }
      ]
    },
    {
      "cell_type": "markdown",
      "metadata": {
        "id": "xo9Eg2L-WjCI"
      },
      "source": [
        "Разделим данные на обучающую и тестовую выборку"
      ]
    },
    {
      "cell_type": "code",
      "metadata": {
        "colab": {
          "base_uri": "https://localhost:8080/"
        },
        "id": "4Ohq86BGWXLc",
        "outputId": "cf9169eb-ae21-492d-b14a-76b1d96c0390"
      },
      "source": [
        "from sklearn.model_selection import train_test_split\n",
        "X_train, X_test, y_train, y_test = train_test_split(X, y, test_size = 0.3, random_state = 42)\n",
        "\n",
        "N_train, _ = X_train.shape \n",
        "N_test,  _ = X_test.shape \n",
        "\n",
        "print(N_train, N_test)"
      ],
      "execution_count": 78,
      "outputs": [
        {
          "output_type": "stream",
          "text": [
            "736792 315768\n"
          ],
          "name": "stdout"
        }
      ]
    },
    {
      "cell_type": "markdown",
      "metadata": {
        "id": "agnzXZ3SXJ-1"
      },
      "source": [
        "# **$k$NN**"
      ]
    },
    {
      "cell_type": "code",
      "metadata": {
        "colab": {
          "base_uri": "https://localhost:8080/"
        },
        "id": "xHGj23skXT_f",
        "outputId": "179e1a02-37f6-4273-a9cf-1879531a2a24"
      },
      "source": [
        "from sklearn.neighbors import KNeighborsClassifier\n",
        "\n",
        "knn = KNeighborsClassifier(n_neighbors = 10)\n",
        "knn.fit(X_train, y_train)\n",
        "\n",
        "err_train = np.mean(y_train != knn.predict(X_train))\n",
        "err_test  = np.mean(y_test  != knn.predict(X_test))\n",
        "\n",
        "print(err_train, err_test)"
      ],
      "execution_count": 79,
      "outputs": [
        {
          "output_type": "stream",
          "text": [
            "0.025760323130544306 0.03068708672189709\n"
          ],
          "name": "stdout"
        }
      ]
    },
    {
      "cell_type": "markdown",
      "metadata": {
        "id": "h_TzeRugyU8H"
      },
      "source": [
        "Поэксперементируем с числом компонент"
      ]
    },
    {
      "cell_type": "code",
      "metadata": {
        "colab": {
          "base_uri": "https://localhost:8080/"
        },
        "id": "oqN6oiWUxhyz",
        "outputId": "5f0df007-7e04-4649-f2b2-e6a3804daef7"
      },
      "source": [
        "err_train_values = []\n",
        "err_test_values = []\n",
        "\n",
        "for i in range(1, 42, 10):\n",
        "    knn = KNeighborsClassifier(n_neighbors = i)\n",
        "    knn.fit(X_train, y_train)\n",
        "\n",
        "    err_train = np.mean(y_train != knn.predict(X_train))\n",
        "    err_test = np.mean(y_test != knn.predict(X_test))\n",
        "\n",
        "    err_train_values.append(err_train)\n",
        "    err_test_values.append(err_test)\n",
        "    \n",
        "    print(i, err_train, err_test)"
      ],
      "execution_count": 80,
      "outputs": [
        {
          "output_type": "stream",
          "text": [
            "1 0.0032166473034452056 0.0158914139494819\n",
            "11 0.02698319199991314 0.03160548250614375\n",
            "21 0.03464071271132151 0.03773973296850853\n",
            "31 0.038515619062096225 0.04070076765220035\n",
            "41 0.04130202282326627 0.0429239188264802\n"
          ],
          "name": "stdout"
        }
      ]
    },
    {
      "cell_type": "code",
      "metadata": {
        "colab": {
          "base_uri": "https://localhost:8080/",
          "height": 296
        },
        "id": "9nf0omqYx9A7",
        "outputId": "6ec9b5df-faf0-43b7-cd04-e815f427227b"
      },
      "source": [
        "plt.plot(range(1, 42, 10), err_train_values, color = 'b', label = 'Train')\n",
        "plt.plot(range(1, 42, 10), err_test_values, color = 'm', label = 'Test')\n",
        "plt.xlim(0, 43)\n",
        "plt.xlabel('Number of components')\n",
        "plt.ylabel('Error')\n",
        "plt.legend()"
      ],
      "execution_count": 83,
      "outputs": [
        {
          "output_type": "execute_result",
          "data": {
            "text/plain": [
              "<matplotlib.legend.Legend at 0x7f595dde21d0>"
            ]
          },
          "metadata": {
            "tags": []
          },
          "execution_count": 83
        },
        {
          "output_type": "display_data",
          "data": {
            "image/png": "[encoded data removed]",
            "text/plain": [
              "<Figure size 432x288 with 1 Axes>"
            ]
          },
          "metadata": {
            "tags": [],
            "needs_background": "light"
          }
        }
      ]
    },
    {
      "cell_type": "markdown",
      "metadata": {
        "id": "OzGmjd5QrOWG"
      },
      "source": [
        "# **Decision Tree**"
      ]
    },
    {
      "cell_type": "code",
      "metadata": {
        "colab": {
          "base_uri": "https://localhost:8080/"
        },
        "id": "VBTYi7QsrQ82",
        "outputId": "56dd1c46-7e3f-4895-8ed2-cbaabeb6d77f"
      },
      "source": [
        "from sklearn.tree import DecisionTreeClassifier\n",
        "dtree = DecisionTreeClassifier()\n",
        "dtree.fit(X_train, y_train)\n",
        "\n",
        "err_train = np.mean(y_train != dtree.predict(X_train))\n",
        "err_test  = np.mean(y_test  != dtree.predict(X_test))\n",
        "\n",
        "print(err_train, err_test)"
      ],
      "execution_count": null,
      "outputs": [
        {
          "output_type": "stream",
          "text": [
            "0.0021932920009989252 0.002897697043398951\n"
          ],
          "name": "stdout"
        }
      ]
    },
    {
      "cell_type": "markdown",
      "metadata": {
        "id": "qGJgZkmIrm9r"
      },
      "source": [
        "# **Вывод**"
      ]
    },
    {
      "cell_type": "markdown",
      "metadata": {
        "id": "Tq5loi1jrrm4"
      },
      "source": [
        "Видно, что Decision Tree показал более хорошие результаты ошибок как на тренировочной выборке, так и на тестовой."
      ]
    },
    {
      "cell_type": "markdown",
      "metadata": {
        "id": "DKEkrr4Ik2tg"
      },
      "source": [
        "# ***PCA***"
      ]
    },
    {
      "cell_type": "code",
      "metadata": {
        "colab": {
          "base_uri": "https://localhost:8080/"
        },
        "id": "BHrexIBHk7JM",
        "outputId": "da8781e6-542e-44eb-b926-3defb38d7181"
      },
      "source": [
        "from sklearn.decomposition import PCA\n",
        "pca = PCA(n_components = 2)\n",
        "pca.fit(X)"
      ],
      "execution_count": null,
      "outputs": [
        {
          "output_type": "execute_result",
          "data": {
            "text/plain": [
              "PCA(copy=True, iterated_power='auto', n_components=2, random_state=None,\n",
              "    svd_solver='auto', tol=0.0, whiten=False)"
            ]
          },
          "metadata": {
            "tags": []
          },
          "execution_count": 27
        }
      ]
    },
    {
      "cell_type": "code",
      "metadata": {
        "colab": {
          "base_uri": "https://localhost:8080/"
        },
        "id": "_R_z7oSdlErI",
        "outputId": "8378b7f8-3f62-4b35-be05-fcd83f4e73ba"
      },
      "source": [
        "pca_transform = pca.transform(X)\n",
        "print(X.shape)\n",
        "print(pca_transform.shape)"
      ],
      "execution_count": null,
      "outputs": [
        {
          "output_type": "stream",
          "text": [
            "(1052560, 3)\n",
            "(1052560, 2)\n"
          ],
          "name": "stdout"
        }
      ]
    },
    {
      "cell_type": "code",
      "metadata": {
        "colab": {
          "base_uri": "https://localhost:8080/",
          "height": 265
        },
        "id": "EDGvNlCalndW",
        "outputId": "1c51ebaa-0a75-4204-f55d-fce87da19eae"
      },
      "source": [
        "colors = ['r' if item == 0 else 'g' for item in y]\n",
        "plt.scatter(pca_transform[:, 0], pca_transform[:, 1], color = colors, alpha = 0.2)\n",
        "pass"
      ],
      "execution_count": null,
      "outputs": [
        {
          "output_type": "display_data",
          "data": {
            "image/png": "[encoded data removed]",
            "text/plain": [
              "<Figure size 432x288 with 1 Axes>"
            ]
          },
          "metadata": {
            "tags": [],
            "needs_background": "light"
          }
        }
      ]
    },
    {
      "cell_type": "code",
      "metadata": {
        "colab": {
          "base_uri": "https://localhost:8080/"
        },
        "id": "y-Nx7Ppono7D",
        "outputId": "78f1ae8b-26f6-40bf-9751-280a503aa3ba"
      },
      "source": [
        "print(\"Главные компоненты (по строкам):\")\n",
        "print(pca.components_)"
      ],
      "execution_count": null,
      "outputs": [
        {
          "output_type": "stream",
          "text": [
            "Главные компоненты (по строкам):\n",
            "[[ 0.71377616 -0.68801864 -0.13097309]\n",
            " [ 0.08701076  0.27266725 -0.9581658 ]]\n"
          ],
          "name": "stdout"
        }
      ]
    },
    {
      "cell_type": "code",
      "metadata": {
        "colab": {
          "base_uri": "https://localhost:8080/"
        },
        "id": "s8MoSqQkn-u_",
        "outputId": "2af7a51e-ee45-4e4e-c836-5143ef7c4c26"
      },
      "source": [
        "print(\"Дисперсии по главным компонентам:\")\n",
        "print(pca.explained_variance_)"
      ],
      "execution_count": null,
      "outputs": [
        {
          "output_type": "stream",
          "text": [
            "Дисперсии по главным компонентам:\n",
            "[1.21973936 1.01226024]\n"
          ],
          "name": "stdout"
        }
      ]
    },
    {
      "cell_type": "code",
      "metadata": {
        "colab": {
          "base_uri": "https://localhost:8080/"
        },
        "id": "_9NSUFaJoFZM",
        "outputId": "8e79ec3c-b144-43d8-c1d1-ea222f5826f3"
      },
      "source": [
        "print(\"Среднеквадратические отклонения:\")\n",
        "print(np.sqrt(pca.explained_variance_))"
      ],
      "execution_count": null,
      "outputs": [
        {
          "output_type": "stream",
          "text": [
            "Среднеквадратические отклонения:\n",
            "[1.10441811 1.00611145]\n"
          ],
          "name": "stdout"
        }
      ]
    },
    {
      "cell_type": "markdown",
      "metadata": {
        "id": "AyyruJIgoqwt"
      },
      "source": [
        "Применим еще раз 𝑘NN уже к новым данным"
      ]
    },
    {
      "cell_type": "code",
      "metadata": {
        "id": "TjT0be7UpwFy"
      },
      "source": [
        "from sklearn.model_selection import train_test_split\n",
        "X_train, X_test, y_train, y_test = train_test_split(pca_transform, y, test_size = 0.3, random_state = 42)"
      ],
      "execution_count": null,
      "outputs": []
    },
    {
      "cell_type": "code",
      "metadata": {
        "colab": {
          "base_uri": "https://localhost:8080/"
        },
        "id": "v9nnqRYEovnS",
        "outputId": "e35a3e79-bf11-4946-9eea-314db7fe18b9"
      },
      "source": [
        "from sklearn.neighbors import KNeighborsClassifier\n",
        "\n",
        "knn = KNeighborsClassifier(n_neighbors = 10)\n",
        "knn.fit(X_train, y_train)\n",
        "\n",
        "err_train = np.mean(y_train != knn.predict(X_train))\n",
        "err_test  = np.mean(y_test  != knn.predict(X_test))\n",
        "\n",
        "print(err_train, err_test)"
      ],
      "execution_count": null,
      "outputs": [
        {
          "output_type": "stream",
          "text": [
            "0.029076048599876222 0.03438917179701553\n"
          ],
          "name": "stdout"
        }
      ]
    },
    {
      "cell_type": "markdown",
      "metadata": {
        "id": "QQ53qLEWsCnb"
      },
      "source": [
        "Видно, что после применения PCA ошибки выросли."
      ]
    },
    {
      "cell_type": "markdown",
      "metadata": {
        "id": "1IahLJ6PspzT"
      },
      "source": [
        "А теперь применим Decision Tree."
      ]
    },
    {
      "cell_type": "code",
      "metadata": {
        "colab": {
          "base_uri": "https://localhost:8080/"
        },
        "id": "s2FltEYfsPML",
        "outputId": "0f09ce19-9a49-4508-ded4-7bac22c38b1e"
      },
      "source": [
        "from sklearn.tree import DecisionTreeClassifier\n",
        "dtree = DecisionTreeClassifier()\n",
        "dtree.fit(X_train, y_train)\n",
        "\n",
        "err_train = np.mean(y_train != dtree.predict(X_train))\n",
        "err_test  = np.mean(y_test  != dtree.predict(X_test))\n",
        "\n",
        "print(err_train, err_test)"
      ],
      "execution_count": null,
      "outputs": [
        {
          "output_type": "stream",
          "text": [
            "0.0021932920009989252 0.0029008639254135948\n"
          ],
          "name": "stdout"
        }
      ]
    },
    {
      "cell_type": "markdown",
      "metadata": {
        "id": "ymsh0DmYst6D"
      },
      "source": [
        "На обучающей выборке ошибка осталась неизменной, а вот для тестовой возрасла не сильно."
      ]
    },
    {
      "cell_type": "markdown",
      "metadata": {
        "id": "7o_EBe_dvl4r"
      },
      "source": [
        "# **LDA**"
      ]
    },
    {
      "cell_type": "code",
      "metadata": {
        "id": "7xqt4_Myvn3J"
      },
      "source": [
        "from sklearn import discriminant_analysis\n",
        "\n",
        "lda = discriminant_analysis.LinearDiscriminantAnalysis(n_components = 1)\n",
        "X_train, X_test, y_train, y_test = train_test_split(X, y, test_size = 0.25, random_state = 73)  \n",
        "lda.fit(X_train, y_train)\n",
        "lda_transform = lda.transform(X_train)"
      ],
      "execution_count": null,
      "outputs": []
    },
    {
      "cell_type": "code",
      "metadata": {
        "colab": {
          "base_uri": "https://localhost:8080/"
        },
        "id": "dfF_7NERwkLw",
        "outputId": "02fb04ad-44c4-4048-c004-244633e87a5e"
      },
      "source": [
        "from sklearn.neighbors import KNeighborsClassifier\n",
        "\n",
        "knn = KNeighborsClassifier(n_neighbors = 10)\n",
        "knn.fit(X_train, y_train)\n",
        "\n",
        "err_train = np.mean(y_train != knn.predict(X_train))\n",
        "err_test  = np.mean(y_test  != knn.predict(X_test))\n",
        "\n",
        "print(err_train, err_test)"
      ],
      "execution_count": null,
      "outputs": [
        {
          "output_type": "stream",
          "text": [
            "0.02516404448835854 0.030174051835524816\n"
          ],
          "name": "stdout"
        }
      ]
    },
    {
      "cell_type": "markdown",
      "metadata": {
        "id": "PUfnL0FqxW1n"
      },
      "source": [
        "После применения LDA ошибки на тренировочной и тестовой выборке стали меньше."
      ]
    },
    {
      "cell_type": "code",
      "metadata": {
        "colab": {
          "base_uri": "https://localhost:8080/"
        },
        "id": "ZuLCqzc6wvlB",
        "outputId": "62b728e6-d42e-4886-ef45-397440f55a98"
      },
      "source": [
        "from sklearn.tree import DecisionTreeClassifier\n",
        "dtree = DecisionTreeClassifier()\n",
        "dtree.fit(X_train, y_train)\n",
        "\n",
        "err_train = np.mean(y_train != dtree.predict(X_train))\n",
        "err_test  = np.mean(y_test  != dtree.predict(X_test))\n",
        "\n",
        "print(err_train, err_test)"
      ],
      "execution_count": null,
      "outputs": [
        {
          "output_type": "stream",
          "text": [
            "0.0022130171518329913 0.002819791745838717\n"
          ],
          "name": "stdout"
        }
      ]
    },
    {
      "cell_type": "markdown",
      "metadata": {
        "id": "QmOGSpNsxNNi"
      },
      "source": [
        "Ошибка на тренировочной выборке немного ухудшилась, зато на тестовой стала немного меньше."
      ]
    }
  ]
}